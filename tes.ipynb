{
 "cells": [
  {
   "cell_type": "code",
   "execution_count": 13,
   "metadata": {},
   "outputs": [],
   "source": [
    "import numpy as np"
   ]
  },
  {
   "cell_type": "code",
   "execution_count": 14,
   "metadata": {},
   "outputs": [],
   "source": [
    "#mendefinisikan bentuk environment yang memiliki 11 rows, dan 11 columns, sehingga memiliki 121 kemungkinan states (lokasi)\n",
    "env_baris = 11\n",
    "env_kolom = 11\n",
    "\n",
    "#membuat array 3 dimensi dengan menggunakan numpy untuk menampung nilai Q\n",
    "q_values = np.zeros((env_baris, env_kolom, 4))"
   ]
  },
  {
   "cell_type": "code",
   "execution_count": 15,
   "metadata": {},
   "outputs": [],
   "source": [
    "#mendefinisikan action\n",
    "aksi = ['atas', 'kanan', 'bawah', 'kiri']"
   ]
  },
  {
   "cell_type": "code",
   "execution_count": 16,
   "metadata": {},
   "outputs": [
    {
     "name": "stdout",
     "output_type": "stream",
     "text": [
      "[[-100. -100. -100. -100. -100.  100. -100. -100. -100. -100. -100.]\n",
      " [-100. -100. -100. -100. -100. -100. -100. -100. -100. -100. -100.]\n",
      " [-100. -100. -100. -100. -100. -100. -100. -100. -100. -100. -100.]\n",
      " [-100. -100. -100. -100. -100. -100. -100. -100. -100. -100. -100.]\n",
      " [-100. -100. -100. -100. -100. -100. -100. -100. -100. -100. -100.]\n",
      " [-100. -100. -100. -100. -100. -100. -100. -100. -100. -100. -100.]\n",
      " [-100. -100. -100. -100. -100. -100. -100. -100. -100. -100. -100.]\n",
      " [-100. -100. -100. -100. -100. -100. -100. -100. -100. -100. -100.]\n",
      " [-100. -100. -100. -100. -100. -100. -100. -100. -100. -100. -100.]\n",
      " [-100. -100. -100. -100. -100. -100. -100. -100. -100. -100. -100.]\n",
      " [-100. -100. -100. -100. -100. -100. -100. -100. -100. -100. -100.]]\n",
      "[-100. -100. -100. -100. -100.  100. -100. -100. -100. -100. -100.]\n",
      "[-100.   -1.   -1.   -1.   -1.   -1.   -1.   -1.   -1.   -1. -100.]\n",
      "[-100.   -1. -100. -100. -100. -100. -100.   -1. -100.   -1. -100.]\n",
      "[-100.   -1.   -1.   -1.   -1.   -1.   -1.   -1.   -1.   -1. -100.]\n",
      "[-100. -100. -100.   -1. -100. -100. -100.   -1. -100. -100. -100.]\n",
      "[-1. -1. -1. -1. -1. -1. -1. -1. -1. -1. -1.]\n",
      "[-100. -100. -100. -100. -100.   -1. -100. -100. -100. -100. -100.]\n",
      "[-100.   -1.   -1.   -1.   -1.   -1.   -1.   -1.   -1.   -1. -100.]\n",
      "[-100. -100. -100.   -1. -100. -100. -100.   -1. -100. -100. -100.]\n",
      "[-1. -1. -1. -1. -1. -1. -1. -1. -1. -1. -1.]\n",
      "[-100. -100. -100. -100. -100. -100. -100. -100. -100. -100. -100.]\n"
     ]
    }
   ],
   "source": [
    "#membuat array 2 dimensi untuk menapung reward\n",
    "#array berisi 11 baris dan 11 kolom (sesuai dengan environment), dan diberi nilai -100\n",
    "\n",
    "rewards = np.full((env_baris, env_kolom), -100.)\n",
    "rewards [0, 5] = 100. #memberi nilai reward 100 pada goal\n",
    "\n",
    "\n",
    "#menentukan lorong yang akan diberi reward -1\n",
    "lorong = {}\n",
    "lorong[1] = [i for i in range (1, 10)]\n",
    "lorong[2] = [1, 7, 9]\n",
    "lorong[3] = [i for i in range (1, 9)]\n",
    "lorong[3].append(9)\n",
    "lorong[4] = [3, 7]\n",
    "lorong[5] = [i for i in range (11)]\n",
    "lorong[6] = [5]\n",
    "lorong[7] = [i for i in range (1, 10)]\n",
    "lorong[8] = [3, 7]\n",
    "lorong[9] = [i for i in range(11)]\n",
    "\n",
    "#nested for untuk memberi nilai reward untuk tiap lorong\n",
    "for index_baris in range(1, 10):\n",
    "    for index_kolom in lorong[index_baris]:\n",
    "        rewards[index_baris, index_kolom] = -1\n",
    "\n",
    "#menampilkan reward\n",
    "for baris in rewards:\n",
    "    print(baris)\n"
   ]
  },
  {
   "cell_type": "code",
   "execution_count": null,
   "metadata": {},
   "outputs": [],
   "source": [
    "#non terminal state = kotak putih/yang nilainya -1\n",
    "#terminal state = kotak hitam/yang nilaainya -100 & goal yang nilainya 100\n",
    "\n",
    "#fungsi untuk menentukan menentukan apakah lokasi yang ditentukan adalah terminal state\n",
    "def is_terminal_state(index_baris_saat_ini, index_kolom_saat_ini):\n",
    "    if rewards[index_baris_saat_ini, index_kolom_saat_ini] == -1.:\n",
    "        return False\n",
    "    else:\n",
    "        return True\n",
    "\n",
    "#fungsi menentukan lokasi awal secara acak (yang non terminal state/kotak putih)\n",
    "def mendapatkan_lokasi_awal():\n",
    "\n",
    "    #mendapatkan baris acak\n",
    "    index_baris_saat_ini = np.random.randint(env_baris)\n",
    "    index_kolom_saat_ini = np.random.randint(env_kolom)\n",
    "\n",
    "    #terus memilih baris dan kolom secara acak sampai ketemu non terminal state/kotak putih\n",
    "    while is_terminal_state(index_baris_saat_ini, index_kolom_saat_ini):\n",
    "        index_baris_saat_ini = np.random.randint(env_baris)\n",
    "        index_kolom_saat_ini = np.random.randint(env_kolom)\n",
    "    return index_baris_saat_ini, index_kolom_saat_ini\n",
    "\n",
    "#mendefinisikan epsilon greedy algorithm\n",
    "def mendapatkan_aksi_selanjutnya(index_baris_saat_ini, index_kolom_saat_ini, epsilon):\n",
    "\n",
    "    \"\"\"jika nilai yang dipilih secara acak antara 0 sampai 1 kurang dari nilai epsilon (90% atau 0,9), \n",
    "    maka pilih nilai yang paling menjanjikan dari tabel Q untuk keadaan ini\"\"\"\n",
    "    if np.random.random() < epsilon:\n",
    "        return np.argmax(q_values[index_baris_saat_ini, index_kolom_saat_ini])\n",
    "    else:#10% nya memilih action secara random (untuk eksplorasi)\n",
    "        return np.random.randint(4)\n",
    "\n",
    "#mendefinisikan lokasi berikutnya setelah melakukan action yang dipilih\n",
    "def mendapatkan_lokasi_selanjutnya(index_baris_saat_ini, index_kolom_saat_ini, index_aksi):\n",
    "    index_baris_baru = index_baris_saat_ini\n",
    "    index_kolom_baru = index_kolom_saat_ini\n",
    "    if aksi[index_aksi] == 'atas' and index_baris_saat_ini > 0:\n",
    "        index_baris_baru -= 1\n",
    "    elif aksi[index_aksi] == 'kanan' and index_kolom_saat_ini < env_kolom -1:\n",
    "        index_kolom_baru += 1\n",
    "    elif aksi[index_aksi] == 'bawah' and index_baris_saat_ini < env_baris -1:\n",
    "        index_baris_baru += 1\n",
    "    elif aksi[index_aksi] == 'kiri' and index_kolom_saat_ini > 0:\n",
    "        index_kolom_baru -= 1\n",
    "    return index_baris_baru, index_kolom_baru\n",
    "\n",
    "#fungsi untuk menentukan jalur terpendek yang dapat dilalui dari lokasi manapun yang diizinkan (lokasi yang kotak putih)\n",
    "def mendapatkan_jalur_terpendek(mulai_index_baris, mulai_index_kolom):\n",
    "    if is_terminal_state(mulai_index_baris, mulai_index_kolom):\n",
    "        return[]\n",
    "    else:\n",
    "        index_baris_saat_ini, index_kolom_saat_ini = mulai_index_baris, mulai_index_kolom\n",
    "        jalur_terpendek = []\n",
    "        jalur_terpendek.append([index_baris_saat_ini, index_kolom_saat_ini])\n",
    "\n",
    "        while not is_terminal_state(index_baris_saat_ini, index_kolom_saat_ini):\n",
    "            index_aksi = mendapatkan_aksi_selanjutnya(index_baris_saat_ini, index_kolom_saat_ini, 1.)\n",
    "            index_baris_saat_ini, index_kolom_saat_ini = mendapatkan_lokasi_selanjutnya(index_baris_saat_ini, index_kolom_saat_ini, index_aksi)\n",
    "            jalur_terpendek.append([index_baris_saat_ini, index_kolom_saat_ini])\n",
    "        return jalur_terpendek\n"
   ]
  },
  {
   "cell_type": "code",
   "execution_count": null,
   "metadata": {},
   "outputs": [],
   "source": [
    "#mendefiniskan training parameter\n",
    "epsilon = 0.9 #persentase waktu ketika kita harus mengambil tindakan terbaik (?)\n",
    "discount_factor = 0.9 #discount factor future reward\n",
    "learning_rate = 0.9 #mengontrol seberapa cepat agent untuk belajar\n",
    "\n",
    "#menjalankan sebanyak 1000 episode\n",
    "for episode in range (1000):\n",
    "\n",
    "    #mendapatkan lokasi awal untuk episode ini (kotak putih)\n",
    "    index_baris, index_kolom = mendapatkan_lokasi_awal()\n",
    "\n",
    "    #terus melakukan action sampai mencapai terminal state (kotak hitam/hijau)\n",
    "    while not is_terminal_state(index_baris, index_kolom):\n",
    "        index_aksi = mendapatkan_aksi_selanjutnya(index_baris, index_kolom, epsilon)\n",
    "        \n",
    "        #menentukan aksi dan memilih keadaan selanjutnya (berpindah ke lokasi selanjutnya)\n",
    "        index_baris_lama, index_kolom_lama = index_baris, index_kolom\n",
    "        index_baris, index_kolom = mendapatkan_lokasi_selanjutnya(index_baris, index_kolom, index_aksi)\n",
    "        \n",
    "        #mendapatkan hadiah dan menghitung temporal difference setelah mencapai lokasi baru\n",
    "        reward = rewards[index_baris, index_kolom]\n",
    "        q_values_lama = q_values[index_baris_lama, index_kolom_lama, index_aksi]\n",
    "        temporal_difference = reward + (discount_factor * np.max(q_values[index_baris, index_kolom])) - q_values_lama\n",
    "\n",
    "        #update nilai q untuk state dan aksi sebelumnya setelah mencapai lokasi baru\n",
    "        q_values_baru = q_values_lama + (learning_rate * temporal_difference)\n",
    "        q_values[index_baris_lama, index_kolom_lama, index_aksi] = q_values_baru\n",
    "\n",
    "print('Training selesai')"
   ]
  },
  {
   "cell_type": "code",
   "execution_count": null,
   "metadata": {},
   "outputs": [],
   "source": [
    "print(mendapatkan_jalur_terpendek(3, 9))\n",
    "print(mendapatkan_jalur_terpendek(4, 3))\n",
    "print(mendapatkan_jalur_terpendek(9, 5))"
   ]
  },
  {
   "cell_type": "code",
   "execution_count": null,
   "metadata": {},
   "outputs": [],
   "source": [
    "path = mendapatkan_jalur_terpendek(5, 2)\n",
    "path.reverse()\n",
    "print(\"\")\n",
    "print(path)"
   ]
  }
 ],
 "metadata": {
  "kernelspec": {
   "display_name": "Python 3.9.13 ('QLearning-tes': venv)",
   "language": "python",
   "name": "python3"
  },
  "language_info": {
   "codemirror_mode": {
    "name": "ipython",
    "version": 3
   },
   "file_extension": ".py",
   "mimetype": "text/x-python",
   "name": "python",
   "nbconvert_exporter": "python",
   "pygments_lexer": "ipython3",
   "version": "3.9.13"
  },
  "orig_nbformat": 4,
  "vscode": {
   "interpreter": {
    "hash": "193d2c9c9d47fa820533aea5f8a16671999948df879bb4abe81161f8a9331358"
   }
  }
 },
 "nbformat": 4,
 "nbformat_minor": 2
}
